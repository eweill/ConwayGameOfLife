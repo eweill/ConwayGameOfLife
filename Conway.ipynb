{
 "cells": [
  {
   "cell_type": "markdown",
   "metadata": {},
   "source": [
    "# Conway's Game of Life\n",
    "\n",
    "Authors: Edwin Weill & Brad Green  \n",
    "Due Date: November 29th  \n",
    "\n",
    "This iPython notebook serves as the project code for the final project in MATH 8650 (Data Structures).  \n",
    "\n",
    "__Project Description__: Conway's game of life is a cellular automaton devised by John Horton Conway in 1970.\n",
    "The \"game\" is structured so that the evolution is only based on the initial state, meaning no user input is needed.  Initial configurations can be created randomly or by creating known patterns with particular properties.  \n",
    "\n",
    "A set of rules is derived that mimics growth of a colony of some biological organisms.  In most cases, the \"game\" is played on a two-dimensional grid which contains \"dead\" and \"living\" cells.  The following are a small subset of the rules that govern the evolution of the \"game\".  \n",
    "\n",
    "- __Reproduction__: If a \"dead\" cell is surrounded by exactly 3 \"living\" cells, it become a \"living\" cell\n",
    "- __Underpopulation__: If a \"living\" cell is surrounded by fewer than two \"living\" cells, it dies.\n",
    "- __Overpopulation__: If a \"living\" cell is surrounded by more than three \"living\" cells, it dies.\n",
    "- __Stasis__: If a \"living\" cell is surrounded by two or three \"living\" cells, it survives."
   ]
  },
  {
   "cell_type": "markdown",
   "metadata": {},
   "source": [
    "### Import necessary libraries"
   ]
  },
  {
   "cell_type": "code",
   "execution_count": 1,
   "metadata": {
    "collapsed": false,
    "scrolled": true
   },
   "outputs": [
    {
     "name": "stdout",
     "output_type": "stream",
     "text": [
      "Populating the interactive namespace from numpy and matplotlib\n"
     ]
    }
   ],
   "source": [
    "import numpy as np\n",
    "import matplotlib.pyplot as plt\n",
    "import matplotlib.animation as animation\n",
    "from IPython.display import HTML\n",
    "\n",
    "%pylab inline"
   ]
  },
  {
   "cell_type": "markdown",
   "metadata": {},
   "source": [
    "### Set up display for animation"
   ]
  },
  {
   "cell_type": "code",
   "execution_count": 2,
   "metadata": {
    "collapsed": true
   },
   "outputs": [],
   "source": [
    "from tempfile import NamedTemporaryFile\n",
    "\n",
    "VIDEO_TAG = \"\"\"<video controls>\n",
    " <source src=\"data:video/x-m4v;base64,{0}\" type=\"video/mp4\">\n",
    " Your browser does not support the video tag.\n",
    "</video>\"\"\"\n",
    "\n",
    "def anim_to_html(anim):\n",
    "    if not hasattr(anim, '_encoded_video'):\n",
    "        with NamedTemporaryFile(suffix='.mp4') as f:\n",
    "            anim.save(f.name, fps=20, extra_args=['-vcodec', 'libx264'])\n",
    "            video = open(f.name, \"rb\").read()\n",
    "        anim._encoded_video = video.encode(\"base64\")\n",
    "    \n",
    "    return VIDEO_TAG.format(anim._encoded_video)\n",
    "\n",
    "def display_animation(anim):\n",
    "    plt.close(anim._fig)\n",
    "    return HTML(anim_to_html(anim))"
   ]
  },
  {
   "cell_type": "markdown",
   "metadata": {},
   "source": [
    "### Conway Game of Life Grid Class"
   ]
  },
  {
   "cell_type": "code",
   "execution_count": 3,
   "metadata": {
    "collapsed": true
   },
   "outputs": [],
   "source": [
    "class ConwayGOLGrid():\n",
    "    \"\"\"\n",
    "    Represents a grid in the Conway's Game of Life problem where\n",
    "    each of the cells contained in the grid may be either alive or\n",
    "    dead for any given state.\n",
    "    \"\"\"\n",
    "    def __init__(self, width=100, height=100):\n",
    "        self.width, self.height = width, height\n",
    "        self.cells = []"
   ]
  },
  {
   "cell_type": "markdown",
   "metadata": {},
   "source": [
    "### Conway Game of Life Cell Class"
   ]
  },
  {
   "cell_type": "code",
   "execution_count": 4,
   "metadata": {
    "collapsed": false
   },
   "outputs": [],
   "source": [
    "class ConwayGOLCell():\n",
    "    \"\"\"\n",
    "    Represents a cell in the Conway's Game of Life problem where\n",
    "    a cell can either be alive or dead and the next state of the\n",
    "    cell is based on the states of the immediate (8) neighbors.\n",
    "    \"\"\"\n",
    "    def __init__(self, x, y, alive=False):\n",
    "        \"\"\"\n",
    "        Create information for the given cell including the x and\n",
    "        y coordinates of the cell, whether it is currently alive\n",
    "        or dead, it's neighbors, and its current color.\n",
    "        \n",
    "        Parameters: x, y give the coordinate of the cell in grid\n",
    "                    alive gives the current state of the cell\n",
    "        Returns: None\n",
    "        \"\"\"\n",
    "        self.x, self.y = x, y\n",
    "        self.alive = alive\n",
    "        self.neighbors = [(x-1,y-1), (x, y-1), (x+1, y-1),\n",
    "                          (x-1,y  ),           (x+1, y  ),\n",
    "                          (x-1,y+1), (x, y+1), (x+1, y+1)]\n",
    "        self.color = (255,255,255)\n",
    "        \n",
    "    def spawn(self):\n",
    "        \"\"\"\n",
    "        Changes the state of a cell from dead to alive.  Assumes\n",
    "        that the cell is dead to be changed to alive (no need to\n",
    "        modify if already alive).\n",
    "        \n",
    "        Parameters: None\n",
    "        Returns: None\n",
    "        \"\"\"\n",
    "        assert self.alive==False\n",
    "        self.alive = True\n",
    "        \n",
    "    def die(self):\n",
    "        \"\"\"\n",
    "        Changes the stat of a cell from alive to dead.  Assumes\n",
    "        that the cell is alive to be changed to dead (no need to \n",
    "        modify if already dead).\n",
    "        \n",
    "        Parameters: None\n",
    "        Returns: None\n",
    "        \"\"\"\n",
    "        assert self.alive==True\n",
    "        self.alive = False"
   ]
  },
  {
   "cell_type": "markdown",
   "metadata": {},
   "source": [
    "### Animate Grid"
   ]
  },
  {
   "cell_type": "code",
   "execution_count": null,
   "metadata": {
    "collapsed": true
   },
   "outputs": [],
   "source": []
  }
 ],
 "metadata": {
  "kernelspec": {
   "display_name": "Python 2",
   "language": "python",
   "name": "python2"
  },
  "language_info": {
   "codemirror_mode": {
    "name": "ipython",
    "version": 2
   },
   "file_extension": ".py",
   "mimetype": "text/x-python",
   "name": "python",
   "nbconvert_exporter": "python",
   "pygments_lexer": "ipython2",
   "version": "2.7.12"
  }
 },
 "nbformat": 4,
 "nbformat_minor": 0
}
